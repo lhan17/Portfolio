{
 "cells": [
  {
   "cell_type": "markdown",
   "id": "42b8808c",
   "metadata": {},
   "source": [
    "# ALS Music Recommendation System\n",
    "In this project we will make music recommendations according to music listener's preferences. The model training is done with alternative least squares (ALS) and a sample data is taken from \"uniqe_tracks.txt\" from http://millionsongdataset.com/sites/default/files/AdditionalFiles/unique_tracks.txt . \n",
    "\n",
    "dataset by:  \n",
    "Thierry Bertin-Mahieux, Daniel P.W. Ellis, Brian Whitman, and Paul Lamere.   \n",
    "The Million Song Dataset. In Proceedings of the 12th International Society  \n",
    "for Music Information Retrieval Conference (ISMIR 2011), 2011.  \n",
    "\n",
    "\n",
    "## Pyspark tools used in this projects \n",
    "- Dataframe\n",
    "- RDD\n",
    "- MLLIB"
   ]
  },
  {
   "cell_type": "code",
   "execution_count": 1,
   "id": "45898dce",
   "metadata": {},
   "outputs": [],
   "source": [
    "# Imports\n",
    "import pyspark.mllib\n",
    "from pyspark.sql import *\n",
    "from pyspark import *\n",
    "from pyspark.rdd import *\n",
    "from pyspark.ml import *\n",
    "from pyspark.ml.feature import *\n",
    "from pyspark.ml.classification import *\n",
    "from pyspark.sql.types import *\n",
    "from pyspark.mllib.recommendation import *\n",
    "import random\n",
    "\n",
    "\n",
    "sc = SparkContext(\"local\",\"music\")\n",
    "spark = SparkSession(sc)\n",
    "\n",
    "sampleUsersPath = \"sampleUsers.txt\"\n",
    "sampleTracksPath = \"sampleTracks.txt\""
   ]
  },
  {
   "cell_type": "code",
   "execution_count": 2,
   "id": "3fa372ff",
   "metadata": {},
   "outputs": [],
   "source": [
    "# Load\n",
    "# When count is over twenty, the count shall be lowered to twenty.\n",
    "from pyspark.sql.functions import expr\n",
    "def load(path):\n",
    "    schema = StructType([StructField(\"user\",StringType(),True),StructField(\"song\",StringType(),True),StructField(\"count\",IntegerType(),True)])\n",
    "    df = spark.read.options(delimiter = \"\\t\").schema(schema).csv(path)\n",
    "    df = df.withColumn(\"count\", expr(\"CASE WHEN count > 20 THEN 20 ELSE count END\"))\n",
    "    return df"
   ]
  },
  {
   "cell_type": "code",
   "execution_count": 3,
   "id": "07cf841d",
   "metadata": {},
   "outputs": [
    {
     "name": "stdout",
     "output_type": "stream",
     "text": [
      "+--------------------+------------------+-----+\n",
      "|                user|              song|count|\n",
      "+--------------------+------------------+-----+\n",
      "|b80344d063b5ccb32...|SOBBMDR12A8C13253B|    2|\n",
      "|b80344d063b5ccb32...|SODZWFT12A8C13C0E4|    1|\n",
      "|b80344d063b5ccb32...|SOHQWYZ12A6D4FA701|    1|\n",
      "|b80344d063b5ccb32...|SOJNNUA12A8AE48C7A|    1|\n",
      "|b80344d063b5ccb32...|SOLXHAI12A6D4FD6F3|    1|\n",
      "|b80344d063b5ccb32...|SOOSIVQ12A6D4F8AE0|    1|\n",
      "|b80344d063b5ccb32...|SORJNVW12A8C13BF90|    1|\n",
      "|85c1f87fea955d09b...|SODJTHN12AF72A8FCD|    2|\n",
      "|85c1f87fea955d09b...|SOIDFHN12A8C13ABAC|    2|\n",
      "|4bd88bfb25263a75b...|SOWEHOM12A6BD4E09E|    1|\n",
      "|9d6f0ead607ac2a6c...|SOCLQES12A58A7BB1D|    2|\n",
      "|9d6f0ead607ac2a6c...|SOKLRPJ12A8C13C3FE|    2|\n",
      "|9bb911319fbc04f01...|SOXBXBI12A8C13C71C|    5|\n",
      "|b64cdd1a0bd907e5e...|SOBDWET12A6701F114|    2|\n",
      "|b64cdd1a0bd907e5e...|SOLQYOG12B0B80BA71|    2|\n",
      "|b64cdd1a0bd907e5e...|SOZPQES12A6D4F8E57|    2|\n",
      "|17aa9f6dbdf753831...|SODHHEG12A58A779FB|    2|\n",
      "|17aa9f6dbdf753831...|SODUANR12A6D4F5036|    1|\n",
      "|17aa9f6dbdf753831...|SOJPFPR12AB018109D|    1|\n",
      "|17aa9f6dbdf753831...|SOJUVYA12AB01860BA|    2|\n",
      "+--------------------+------------------+-----+\n",
      "only showing top 20 rows\n",
      "\n"
     ]
    }
   ],
   "source": [
    "loaded = load(sampleUsersPath).persist()\n",
    "loaded.show()"
   ]
  },
  {
   "cell_type": "code",
   "execution_count": 4,
   "id": "c72b1530",
   "metadata": {},
   "outputs": [],
   "source": [
    "# Using StringIndexer to index the songs and users\n",
    "def convert(df):\n",
    "    i1 = StringIndexer(inputCol=\"user\", outputCol=\"user_indexed\")\n",
    "    i2 = StringIndexer(inputCol=\"song\", outputCol=\"song_indexed\")\n",
    "    indexed_once = i1.fit(df).transform(df)\n",
    "    indexed_twice = i2.fit(indexed_once).transform(indexed_once)\n",
    "    return indexed_twice\n",
    "    raise NotImplementedError()"
   ]
  },
  {
   "cell_type": "code",
   "execution_count": 5,
   "id": "436d9d52",
   "metadata": {},
   "outputs": [
    {
     "name": "stdout",
     "output_type": "stream",
     "text": [
      "+--------------------+------------------+-----+------------+------------+\n",
      "|                user|              song|count|user_indexed|song_indexed|\n",
      "+--------------------+------------------+-----+------------+------------+\n",
      "|b80344d063b5ccb32...|SOBBMDR12A8C13253B|    2|       162.0|       577.0|\n",
      "|b80344d063b5ccb32...|SODZWFT12A8C13C0E4|    1|       162.0|      1053.0|\n",
      "|b80344d063b5ccb32...|SOHQWYZ12A6D4FA701|    1|       162.0|      1646.0|\n",
      "|b80344d063b5ccb32...|SOJNNUA12A8AE48C7A|    1|       162.0|      1945.0|\n",
      "|b80344d063b5ccb32...|SOLXHAI12A6D4FD6F3|    1|       162.0|      2306.0|\n",
      "|b80344d063b5ccb32...|SOOSIVQ12A6D4F8AE0|    1|       162.0|      2702.0|\n",
      "|b80344d063b5ccb32...|SORJNVW12A8C13BF90|    1|       162.0|      3124.0|\n",
      "|85c1f87fea955d09b...|SODJTHN12AF72A8FCD|    2|       810.0|       951.0|\n",
      "|85c1f87fea955d09b...|SOIDFHN12A8C13ABAC|    2|       810.0|      1728.0|\n",
      "|4bd88bfb25263a75b...|SOWEHOM12A6BD4E09E|    1|      1151.0|      3824.0|\n",
      "|9d6f0ead607ac2a6c...|SOCLQES12A58A7BB1D|    2|       839.0|       803.0|\n",
      "|9d6f0ead607ac2a6c...|SOKLRPJ12A8C13C3FE|    2|       839.0|         5.0|\n",
      "|9bb911319fbc04f01...|SOXBXBI12A8C13C71C|    5|      1317.0|      3948.0|\n",
      "|b64cdd1a0bd907e5e...|SOBDWET12A6701F114|    2|       560.0|       586.0|\n",
      "|b64cdd1a0bd907e5e...|SOLQYOG12B0B80BA71|    2|       560.0|       245.0|\n",
      "|b64cdd1a0bd907e5e...|SOZPQES12A6D4F8E57|    2|       560.0|      4289.0|\n",
      "|17aa9f6dbdf753831...|SODHHEG12A58A779FB|    2|       115.0|       934.0|\n",
      "|17aa9f6dbdf753831...|SODUANR12A6D4F5036|    1|       115.0|      1013.0|\n",
      "|17aa9f6dbdf753831...|SOJPFPR12AB018109D|    1|       115.0|      1958.0|\n",
      "|17aa9f6dbdf753831...|SOJUVYA12AB01860BA|    2|       115.0|      1988.0|\n",
      "+--------------------+------------------+-----+------------+------------+\n",
      "only showing top 20 rows\n",
      "\n"
     ]
    }
   ],
   "source": [
    "converted = convert(loaded).persist()\n",
    "converted.show()"
   ]
  },
  {
   "cell_type": "code",
   "execution_count": 6,
   "id": "a636f6ea",
   "metadata": {},
   "outputs": [],
   "source": [
    "# We generate rating by Rating function and make the dataframe rdd for ALS model\n",
    "def toRating(df):\n",
    "    df = df.rdd\n",
    "    df = df.map(lambda d: Rating(d[3], d[4], d[2]))\n",
    "    return df"
   ]
  },
  {
   "cell_type": "code",
   "execution_count": 7,
   "id": "0e13b845",
   "metadata": {},
   "outputs": [
    {
     "data": {
      "text/plain": [
       "[Rating(user=162, product=577, rating=2.0),\n",
       " Rating(user=162, product=1053, rating=1.0),\n",
       " Rating(user=162, product=1646, rating=1.0),\n",
       " Rating(user=162, product=1945, rating=1.0),\n",
       " Rating(user=162, product=2306, rating=1.0),\n",
       " Rating(user=162, product=2702, rating=1.0),\n",
       " Rating(user=162, product=3124, rating=1.0),\n",
       " Rating(user=810, product=951, rating=2.0),\n",
       " Rating(user=810, product=1728, rating=2.0),\n",
       " Rating(user=1151, product=3824, rating=1.0)]"
      ]
     },
     "execution_count": 7,
     "metadata": {},
     "output_type": "execute_result"
    }
   ],
   "source": [
    "rated = toRating(converted).persist()\n",
    "rated.take(10)"
   ]
  },
  {
   "cell_type": "code",
   "execution_count": 8,
   "id": "03402d0d",
   "metadata": {},
   "outputs": [],
   "source": [
    "# Training the model\n",
    "def trainALS(data, seed):\n",
    "    model = ALS.train(data, seed = seed, rank = 10)\n",
    "    return model"
   ]
  },
  {
   "cell_type": "code",
   "execution_count": 9,
   "id": "e8de382c",
   "metadata": {},
   "outputs": [],
   "source": [
    "# We will be using a seed, so that the results can be reproduced again.\n",
    "random.seed(123)\n",
    "rSeed = random.randint(0, 10000)\n",
    "model = trainALS(rated, rSeed)"
   ]
  },
  {
   "cell_type": "code",
   "execution_count": 14,
   "id": "089fc2b7",
   "metadata": {},
   "outputs": [],
   "source": [
    "# Recommend five songs to user\n",
    "def recommendSongs(model, user, r):\n",
    "    rec = model.recommendProducts(user, r)\n",
    "    return rec"
   ]
  },
  {
   "cell_type": "code",
   "execution_count": 11,
   "id": "1e8ab267",
   "metadata": {},
   "outputs": [
    {
     "data": {
      "text/plain": [
       "[Rating(user=162, product=157, rating=12.384456815717648),\n",
       " Rating(user=162, product=4074, rating=12.091128420713474),\n",
       " Rating(user=162, product=2310, rating=12.091128420713474),\n",
       " Rating(user=162, product=3986, rating=11.486571658852927),\n",
       " Rating(user=162, product=1669, rating=11.480036749170573)]"
      ]
     },
     "execution_count": 11,
     "metadata": {},
     "output_type": "execute_result"
    }
   ],
   "source": [
    "recommends = recommendSongs(model, 162, 5)\n",
    "recommends"
   ]
  },
  {
   "cell_type": "code",
   "execution_count": 12,
   "id": "c2d55872",
   "metadata": {},
   "outputs": [],
   "source": [
    "# Above we can see five recommendations but we can't read them we because the strings are indexed.\n",
    "# Now we have to change them back.\n",
    "def getSongNames(converted, ar, path):\n",
    "    # converting recommendations to array.\n",
    "    array = spark.createDataFrame(data = ar, schema = [\"user\", \"product\", \"rating\"])\n",
    "    # Reading data that has song names and their ids \n",
    "    schema = StructType([StructField(\"track_id\",StringType(),True),StructField(\"song_id\",StringType(),True),StructField(\"artist\",StringType(),True),StructField(\"title\",StringType(),True)])\n",
    "    df = spark.read.options(delimiter = \"<SEP>\").schema(schema).csv(path)\n",
    "    # Joining the dataframe according to songs\n",
    "    converted = array.join(converted, array.product == converted.song_indexed)\n",
    "    df = converted.join(df, df.song_id == converted.song)\n",
    "    df = df.select(\"artist\", \"title\").distinct()\n",
    "    rdd = df.rdd.map(lambda x: [x[1], x[0]]).collect()\n",
    "    return rdd"
   ]
  },
  {
   "cell_type": "code",
   "execution_count": 13,
   "id": "40bb064c",
   "metadata": {},
   "outputs": [
    {
     "data": {
      "text/plain": [
       "[['Limbo (Remastered LP Version)', 'Rush'],\n",
       " ['Cordeiro De Nana', 'João Gilberto / Gilberto Gil / Caetano Veloso'],\n",
       " ['Whataya Want From Me', 'Adam Lambert'],\n",
       " ['Awakenings', 'Symphony X'],\n",
       " ['Inferno (unleash The Fire)', 'Symphony X']]"
      ]
     },
     "execution_count": 13,
     "metadata": {},
     "output_type": "execute_result"
    }
   ],
   "source": [
    "songNames = getSongNames(converted, recommends, sampleTracksPath)\n",
    "songNames"
   ]
  },
  {
   "cell_type": "code",
   "execution_count": 15,
   "id": "f4e765c0",
   "metadata": {},
   "outputs": [],
   "source": [
    "# Now we combine everything above in to one function and get the same results.\n",
    "def recommend(path, userId, tracksPath, seed, numberOfRecommendation):\n",
    "    data = load(path)\n",
    "    data = convert(data)\n",
    "    train = trainALS(toRating(data), seed)\n",
    "    user = int(data.filter(data.user == userId).first()[3])\n",
    "    return getSongNames(data, recommendSongs(train, user, numberOfRecommendation), tracksPath)"
   ]
  },
  {
   "cell_type": "code",
   "execution_count": 20,
   "id": "5e14042d",
   "metadata": {},
   "outputs": [
    {
     "data": {
      "text/plain": [
       "[['Gunn Clapp', 'O.G.C.'],\n",
       " ['221', 'keller williams'],\n",
       " ['Behind Blue Eyes', 'Limp Bizkit'],\n",
       " ['VÁNDORMADÁR', 'Crystal'],\n",
       " ['Velouria', 'Pixies']]"
      ]
     },
     "execution_count": 20,
     "metadata": {},
     "output_type": "execute_result"
    }
   ],
   "source": [
    "# using the original dataset\n",
    "users = \"users.txt\"\n",
    "tracks = \"unique_tracks.txt\"\n",
    "recom = recommend(users, \"b80344d063b5ccb3212f76538f3d9e43d87dca9e\" ,tracks, rSeed, 5)\n",
    "recom"
   ]
  }
 ],
 "metadata": {
  "kernelspec": {
   "display_name": "Python 3 (ipykernel)",
   "language": "python",
   "name": "python3"
  },
  "language_info": {
   "codemirror_mode": {
    "name": "ipython",
    "version": 3
   },
   "file_extension": ".py",
   "mimetype": "text/x-python",
   "name": "python",
   "nbconvert_exporter": "python",
   "pygments_lexer": "ipython3",
   "version": "3.10.6"
  }
 },
 "nbformat": 4,
 "nbformat_minor": 5
}
