{
 "cells": [
  {
   "cell_type": "code",
   "execution_count": 10,
   "id": "b01dd518",
   "metadata": {},
   "outputs": [],
   "source": [
    "# Imports\n",
    "import numpy as np\n",
    "import numpy.random as npr\n",
    "import pandas as pd\n",
    "import matplotlib.pyplot as plt"
   ]
  },
  {
   "cell_type": "code",
   "execution_count": 23,
   "id": "18af3ea4",
   "metadata": {},
   "outputs": [],
   "source": [
    "# processed data ~200 Mb\n",
    "data = pd.read_csv('processed.csv')"
   ]
  },
  {
   "cell_type": "code",
   "execution_count": 88,
   "id": "6cfa3580",
   "metadata": {},
   "outputs": [
    {
     "data": {
      "text/plain": [
       "1438604"
      ]
     },
     "execution_count": 88,
     "metadata": {},
     "output_type": "execute_result"
    }
   ],
   "source": [
    "data.shape[0]"
   ]
  },
  {
   "cell_type": "code",
   "execution_count": 64,
   "id": "3ffa5df0",
   "metadata": {},
   "outputs": [
    {
     "data": {
      "text/html": [
       "<div>\n",
       "<style scoped>\n",
       "    .dataframe tbody tr th:only-of-type {\n",
       "        vertical-align: middle;\n",
       "    }\n",
       "\n",
       "    .dataframe tbody tr th {\n",
       "        vertical-align: top;\n",
       "    }\n",
       "\n",
       "    .dataframe thead th {\n",
       "        text-align: right;\n",
       "    }\n",
       "</style>\n",
       "<table border=\"1\" class=\"dataframe\">\n",
       "  <thead>\n",
       "    <tr style=\"text-align: right;\">\n",
       "      <th></th>\n",
       "      <th>Unnamed: 0</th>\n",
       "      <th>timestamp</th>\n",
       "      <th>text</th>\n",
       "    </tr>\n",
       "  </thead>\n",
       "  <tbody>\n",
       "    <tr>\n",
       "      <th>0</th>\n",
       "      <td>2</td>\n",
       "      <td>2019-05-27 11:49:06+00</td>\n",
       "      <td>Another Test tweet that wasn't caught in the s...</td>\n",
       "    </tr>\n",
       "    <tr>\n",
       "      <th>1</th>\n",
       "      <td>10</td>\n",
       "      <td>2019-05-27 11:49:19+00</td>\n",
       "      <td>One of the useful articles of Stefan; here is ...</td>\n",
       "    </tr>\n",
       "    <tr>\n",
       "      <th>2</th>\n",
       "      <td>11</td>\n",
       "      <td>2019-05-21 16:49:45+00</td>\n",
       "      <td>BTC IS STILL GOING STRONG!!\\n\\nThus, we are gi...</td>\n",
       "    </tr>\n",
       "    <tr>\n",
       "      <th>3</th>\n",
       "      <td>12</td>\n",
       "      <td>2019-05-22 12:42:16+00</td>\n",
       "      <td>BestMixer has been seized by the Dutch Police ...</td>\n",
       "    </tr>\n",
       "    <tr>\n",
       "      <th>4</th>\n",
       "      <td>13</td>\n",
       "      <td>2019-05-27 11:49:30+00</td>\n",
       "      <td>Invested my Life Savings into Bitcoin and Ethe...</td>\n",
       "    </tr>\n",
       "    <tr>\n",
       "      <th>...</th>\n",
       "      <td>...</td>\n",
       "      <td>...</td>\n",
       "      <td>...</td>\n",
       "    </tr>\n",
       "    <tr>\n",
       "      <th>95</th>\n",
       "      <td>387</td>\n",
       "      <td>2019-05-27 11:53:35+00</td>\n",
       "      <td>#Binance #1 Biggest #Crypto Exchange in World ...</td>\n",
       "    </tr>\n",
       "    <tr>\n",
       "      <th>96</th>\n",
       "      <td>389</td>\n",
       "      <td>2019-05-26 13:30:50+00</td>\n",
       "      <td>New video is now up\\n\\nOverview of trade strat...</td>\n",
       "    </tr>\n",
       "    <tr>\n",
       "      <th>97</th>\n",
       "      <td>390</td>\n",
       "      <td>2019-05-27 04:08:46+00</td>\n",
       "      <td>After using it for a few days since launch (ye...</td>\n",
       "    </tr>\n",
       "    <tr>\n",
       "      <th>98</th>\n",
       "      <td>391</td>\n",
       "      <td>2019-05-27 00:32:43+00</td>\n",
       "      <td>#Bitcoin doesn’t care who said what or who was...</td>\n",
       "    </tr>\n",
       "    <tr>\n",
       "      <th>99</th>\n",
       "      <td>392</td>\n",
       "      <td>2019-05-27 11:53:24+00</td>\n",
       "      <td>#Binance #1 Biggest #Crypto Exchange in World ...</td>\n",
       "    </tr>\n",
       "  </tbody>\n",
       "</table>\n",
       "<p>100 rows × 3 columns</p>\n",
       "</div>"
      ],
      "text/plain": [
       "    Unnamed: 0               timestamp  \\\n",
       "0            2  2019-05-27 11:49:06+00   \n",
       "1           10  2019-05-27 11:49:19+00   \n",
       "2           11  2019-05-21 16:49:45+00   \n",
       "3           12  2019-05-22 12:42:16+00   \n",
       "4           13  2019-05-27 11:49:30+00   \n",
       "..         ...                     ...   \n",
       "95         387  2019-05-27 11:53:35+00   \n",
       "96         389  2019-05-26 13:30:50+00   \n",
       "97         390  2019-05-27 04:08:46+00   \n",
       "98         391  2019-05-27 00:32:43+00   \n",
       "99         392  2019-05-27 11:53:24+00   \n",
       "\n",
       "                                                 text  \n",
       "0   Another Test tweet that wasn't caught in the s...  \n",
       "1   One of the useful articles of Stefan; here is ...  \n",
       "2   BTC IS STILL GOING STRONG!!\\n\\nThus, we are gi...  \n",
       "3   BestMixer has been seized by the Dutch Police ...  \n",
       "4   Invested my Life Savings into Bitcoin and Ethe...  \n",
       "..                                                ...  \n",
       "95  #Binance #1 Biggest #Crypto Exchange in World ...  \n",
       "96  New video is now up\\n\\nOverview of trade strat...  \n",
       "97  After using it for a few days since launch (ye...  \n",
       "98  #Bitcoin doesn’t care who said what or who was...  \n",
       "99  #Binance #1 Biggest #Crypto Exchange in World ...  \n",
       "\n",
       "[100 rows x 3 columns]"
      ]
     },
     "execution_count": 64,
     "metadata": {},
     "output_type": "execute_result"
    }
   ],
   "source": [
    "# testing everything before doing it to whole data\n",
    "playdata = data[0:100]\n",
    "playdata"
   ]
  },
  {
   "cell_type": "code",
   "execution_count": 65,
   "id": "1fa8e966",
   "metadata": {},
   "outputs": [],
   "source": [
    "playdata['timestamp'][1]\n",
    "playdata = playdata.drop(['Unnamed: 0'], axis = 1)"
   ]
  },
  {
   "cell_type": "code",
   "execution_count": 66,
   "id": "04b6a4dc",
   "metadata": {},
   "outputs": [],
   "source": [
    "playdata['timestamp'] = pd.to_datetime(playdata['timestamp'])"
   ]
  },
  {
   "cell_type": "code",
   "execution_count": 67,
   "id": "a38af850",
   "metadata": {},
   "outputs": [
    {
     "data": {
      "text/html": [
       "<div>\n",
       "<style scoped>\n",
       "    .dataframe tbody tr th:only-of-type {\n",
       "        vertical-align: middle;\n",
       "    }\n",
       "\n",
       "    .dataframe tbody tr th {\n",
       "        vertical-align: top;\n",
       "    }\n",
       "\n",
       "    .dataframe thead th {\n",
       "        text-align: right;\n",
       "    }\n",
       "</style>\n",
       "<table border=\"1\" class=\"dataframe\">\n",
       "  <thead>\n",
       "    <tr style=\"text-align: right;\">\n",
       "      <th></th>\n",
       "      <th>timestamp</th>\n",
       "      <th>test</th>\n",
       "    </tr>\n",
       "  </thead>\n",
       "  <tbody>\n",
       "    <tr>\n",
       "      <th>0</th>\n",
       "      <td>2019-05-27 11:49:06+00:00</td>\n",
       "      <td>0</td>\n",
       "    </tr>\n",
       "    <tr>\n",
       "      <th>1</th>\n",
       "      <td>2019-05-27 11:49:19+00:00</td>\n",
       "      <td>1</td>\n",
       "    </tr>\n",
       "    <tr>\n",
       "      <th>2</th>\n",
       "      <td>2019-05-21 16:49:45+00:00</td>\n",
       "      <td>2</td>\n",
       "    </tr>\n",
       "    <tr>\n",
       "      <th>3</th>\n",
       "      <td>2019-05-22 12:42:16+00:00</td>\n",
       "      <td>3</td>\n",
       "    </tr>\n",
       "    <tr>\n",
       "      <th>4</th>\n",
       "      <td>2019-05-27 11:49:30+00:00</td>\n",
       "      <td>4</td>\n",
       "    </tr>\n",
       "    <tr>\n",
       "      <th>...</th>\n",
       "      <td>...</td>\n",
       "      <td>...</td>\n",
       "    </tr>\n",
       "    <tr>\n",
       "      <th>95</th>\n",
       "      <td>2019-05-27 11:53:35+00:00</td>\n",
       "      <td>95</td>\n",
       "    </tr>\n",
       "    <tr>\n",
       "      <th>96</th>\n",
       "      <td>2019-05-26 13:30:50+00:00</td>\n",
       "      <td>96</td>\n",
       "    </tr>\n",
       "    <tr>\n",
       "      <th>97</th>\n",
       "      <td>2019-05-27 04:08:46+00:00</td>\n",
       "      <td>97</td>\n",
       "    </tr>\n",
       "    <tr>\n",
       "      <th>98</th>\n",
       "      <td>2019-05-27 00:32:43+00:00</td>\n",
       "      <td>98</td>\n",
       "    </tr>\n",
       "    <tr>\n",
       "      <th>99</th>\n",
       "      <td>2019-05-27 11:53:24+00:00</td>\n",
       "      <td>99</td>\n",
       "    </tr>\n",
       "  </tbody>\n",
       "</table>\n",
       "<p>100 rows × 2 columns</p>\n",
       "</div>"
      ],
      "text/plain": [
       "                   timestamp  test\n",
       "0  2019-05-27 11:49:06+00:00     0\n",
       "1  2019-05-27 11:49:19+00:00     1\n",
       "2  2019-05-21 16:49:45+00:00     2\n",
       "3  2019-05-22 12:42:16+00:00     3\n",
       "4  2019-05-27 11:49:30+00:00     4\n",
       "..                       ...   ...\n",
       "95 2019-05-27 11:53:35+00:00    95\n",
       "96 2019-05-26 13:30:50+00:00    96\n",
       "97 2019-05-27 04:08:46+00:00    97\n",
       "98 2019-05-27 00:32:43+00:00    98\n",
       "99 2019-05-27 11:53:24+00:00    99\n",
       "\n",
       "[100 rows x 2 columns]"
      ]
     },
     "execution_count": 67,
     "metadata": {},
     "output_type": "execute_result"
    }
   ],
   "source": [
    "playdata['timestamp'].head()\n",
    "pdata = playdata\n",
    "pdata = pdata.drop(['text'], axis = 1)\n",
    "pdata['test']  = range(len(pdata))\n",
    "pdata"
   ]
  },
  {
   "cell_type": "code",
   "execution_count": 68,
   "id": "0b6385ff",
   "metadata": {},
   "outputs": [],
   "source": [
    "# grouping them by week https://newbedev.com/group-by-week-in-pandas\n",
    "pdata['timestamp'] = pd.to_datetime(pdata['timestamp']) - pd.to_timedelta(7, unit='d')\n",
    "df = pdata.resample('W-Mon', on='timestamp').mean().reset_index().sort_values(by='timestamp')"
   ]
  },
  {
   "cell_type": "code",
   "execution_count": 69,
   "id": "2bb9dff7",
   "metadata": {},
   "outputs": [
    {
     "data": {
      "text/html": [
       "<div>\n",
       "<style scoped>\n",
       "    .dataframe tbody tr th:only-of-type {\n",
       "        vertical-align: middle;\n",
       "    }\n",
       "\n",
       "    .dataframe tbody tr th {\n",
       "        vertical-align: top;\n",
       "    }\n",
       "\n",
       "    .dataframe thead th {\n",
       "        text-align: right;\n",
       "    }\n",
       "</style>\n",
       "<table border=\"1\" class=\"dataframe\">\n",
       "  <thead>\n",
       "    <tr style=\"text-align: right;\">\n",
       "      <th></th>\n",
       "      <th>timestamp</th>\n",
       "      <th>test</th>\n",
       "    </tr>\n",
       "  </thead>\n",
       "  <tbody>\n",
       "    <tr>\n",
       "      <th>0</th>\n",
       "      <td>2009-01-05 00:00:00+00:00</td>\n",
       "      <td>10.000000</td>\n",
       "    </tr>\n",
       "    <tr>\n",
       "      <th>1</th>\n",
       "      <td>2009-01-12 00:00:00+00:00</td>\n",
       "      <td>NaN</td>\n",
       "    </tr>\n",
       "    <tr>\n",
       "      <th>2</th>\n",
       "      <td>2009-01-19 00:00:00+00:00</td>\n",
       "      <td>NaN</td>\n",
       "    </tr>\n",
       "    <tr>\n",
       "      <th>3</th>\n",
       "      <td>2009-01-26 00:00:00+00:00</td>\n",
       "      <td>NaN</td>\n",
       "    </tr>\n",
       "    <tr>\n",
       "      <th>4</th>\n",
       "      <td>2009-02-02 00:00:00+00:00</td>\n",
       "      <td>NaN</td>\n",
       "    </tr>\n",
       "    <tr>\n",
       "      <th>...</th>\n",
       "      <td>...</td>\n",
       "      <td>...</td>\n",
       "    </tr>\n",
       "    <tr>\n",
       "      <th>537</th>\n",
       "      <td>2019-04-22 00:00:00+00:00</td>\n",
       "      <td>NaN</td>\n",
       "    </tr>\n",
       "    <tr>\n",
       "      <th>538</th>\n",
       "      <td>2019-04-29 00:00:00+00:00</td>\n",
       "      <td>33.000000</td>\n",
       "    </tr>\n",
       "    <tr>\n",
       "      <th>539</th>\n",
       "      <td>2019-05-06 00:00:00+00:00</td>\n",
       "      <td>67.500000</td>\n",
       "    </tr>\n",
       "    <tr>\n",
       "      <th>540</th>\n",
       "      <td>2019-05-13 00:00:00+00:00</td>\n",
       "      <td>54.000000</td>\n",
       "    </tr>\n",
       "    <tr>\n",
       "      <th>541</th>\n",
       "      <td>2019-05-20 00:00:00+00:00</td>\n",
       "      <td>49.517241</td>\n",
       "    </tr>\n",
       "  </tbody>\n",
       "</table>\n",
       "<p>542 rows × 2 columns</p>\n",
       "</div>"
      ],
      "text/plain": [
       "                    timestamp       test\n",
       "0   2009-01-05 00:00:00+00:00  10.000000\n",
       "1   2009-01-12 00:00:00+00:00        NaN\n",
       "2   2009-01-19 00:00:00+00:00        NaN\n",
       "3   2009-01-26 00:00:00+00:00        NaN\n",
       "4   2009-02-02 00:00:00+00:00        NaN\n",
       "..                        ...        ...\n",
       "537 2019-04-22 00:00:00+00:00        NaN\n",
       "538 2019-04-29 00:00:00+00:00  33.000000\n",
       "539 2019-05-06 00:00:00+00:00  67.500000\n",
       "540 2019-05-13 00:00:00+00:00  54.000000\n",
       "541 2019-05-20 00:00:00+00:00  49.517241\n",
       "\n",
       "[542 rows x 2 columns]"
      ]
     },
     "execution_count": 69,
     "metadata": {},
     "output_type": "execute_result"
    }
   ],
   "source": [
    "df"
   ]
  },
  {
   "cell_type": "code",
   "execution_count": 70,
   "id": "8ba6ddc6",
   "metadata": {},
   "outputs": [],
   "source": [
    "#evaluating sentiment with vader\n",
    "from vaderSentiment.vaderSentiment import SentimentIntensityAnalyzer\n",
    "pdata = data[0:100]\n",
    "testsen = pdata[\"text\"][2]\n",
    "side_obj = SentimentIntensityAnalyzer()\n",
    "def sentiment_scores(x):\n",
    "    y = side_obj.polarity_scores(x)\n",
    "    return y[\"compound\"]\n",
    "# compound score > 0.05 = positive sentiment; compound score < -0.05 = negative sentiment; else neutral sentiment\n",
    "sensco = np.zeros(len(pdata))\n",
    "for i in range(100):\n",
    "    sensco[i] = sentiment_scores(pdata[\"text\"][i])"
   ]
  },
  {
   "cell_type": "code",
   "execution_count": 71,
   "id": "70e8c576",
   "metadata": {},
   "outputs": [
    {
     "data": {
      "text/plain": [
       "array([ 0.    ,  0.4404,  0.926 ,  0.    ,  0.    ,  0.    ,  0.    ,\n",
       "        0.    ,  0.8472, -0.875 ,  0.    ,  0.    , -0.6956, -0.2732,\n",
       "        0.9413,  0.5095,  0.    ,  0.2732,  0.6249,  0.    , -0.2023,\n",
       "        0.7717,  0.7579,  0.    ,  0.68  , -0.7496, -0.2732,  0.    ,\n",
       "        0.5106,  0.    ,  0.    ,  0.5859,  0.    ,  0.8316,  0.4767,\n",
       "        0.2263,  0.8316,  0.4588,  0.0258,  0.7968,  0.5229,  0.    ,\n",
       "        0.    ,  0.4215,  0.    ,  0.7964,  0.    ,  0.2023,  0.392 ,\n",
       "        0.9526,  0.9611,  0.9385, -0.4078,  0.9633,  0.9445,  0.87  ,\n",
       "        0.    , -0.5994,  0.6369,  0.7964,  0.    ,  0.6124,  0.4926,\n",
       "        0.    ,  0.    ,  0.8481, -0.2263,  0.0772,  0.    , -0.4356,\n",
       "        0.    ,  0.3392,  0.    ,  0.    ,  0.    ,  0.    ,  0.    ,\n",
       "        0.9468,  0.9118,  0.8555,  0.9229,  0.    ,  0.    ,  0.    ,\n",
       "        0.4588,  0.4939,  0.5574,  0.    ,  0.    ,  0.3182,  0.    ,\n",
       "        0.    ,  0.    , -0.0258, -0.8555,  0.    ,  0.8805,  0.7644,\n",
       "        0.7184,  0.    ])"
      ]
     },
     "execution_count": 71,
     "metadata": {},
     "output_type": "execute_result"
    }
   ],
   "source": [
    "sensco"
   ]
  },
  {
   "cell_type": "code",
   "execution_count": 72,
   "id": "ee765423",
   "metadata": {},
   "outputs": [
    {
     "name": "stderr",
     "output_type": "stream",
     "text": [
      "c:\\users\\lamth\\appdata\\local\\programs\\python\\python37-32\\lib\\site-packages\\ipykernel_launcher.py:1: SettingWithCopyWarning: \n",
      "A value is trying to be set on a copy of a slice from a DataFrame.\n",
      "Try using .loc[row_indexer,col_indexer] = value instead\n",
      "\n",
      "See the caveats in the documentation: https://pandas.pydata.org/pandas-docs/stable/user_guide/indexing.html#returning-a-view-versus-a-copy\n",
      "  \"\"\"Entry point for launching an IPython kernel.\n"
     ]
    }
   ],
   "source": [
    "pdata[\"sentiment\"] = sensco"
   ]
  },
  {
   "cell_type": "code",
   "execution_count": 73,
   "id": "a7411829",
   "metadata": {},
   "outputs": [
    {
     "data": {
      "text/plain": [
       "<bound method NDFrame.head of     Unnamed: 0               timestamp  \\\n",
       "0            2  2019-05-27 11:49:06+00   \n",
       "1           10  2019-05-27 11:49:19+00   \n",
       "2           11  2019-05-21 16:49:45+00   \n",
       "3           12  2019-05-22 12:42:16+00   \n",
       "4           13  2019-05-27 11:49:30+00   \n",
       "..         ...                     ...   \n",
       "95         387  2019-05-27 11:53:35+00   \n",
       "96         389  2019-05-26 13:30:50+00   \n",
       "97         390  2019-05-27 04:08:46+00   \n",
       "98         391  2019-05-27 00:32:43+00   \n",
       "99         392  2019-05-27 11:53:24+00   \n",
       "\n",
       "                                                 text  sentiment  \n",
       "0   Another Test tweet that wasn't caught in the s...     0.0000  \n",
       "1   One of the useful articles of Stefan; here is ...     0.4404  \n",
       "2   BTC IS STILL GOING STRONG!!\\n\\nThus, we are gi...     0.9260  \n",
       "3   BestMixer has been seized by the Dutch Police ...     0.0000  \n",
       "4   Invested my Life Savings into Bitcoin and Ethe...     0.0000  \n",
       "..                                                ...        ...  \n",
       "95  #Binance #1 Biggest #Crypto Exchange in World ...     0.0000  \n",
       "96  New video is now up\\n\\nOverview of trade strat...     0.8805  \n",
       "97  After using it for a few days since launch (ye...     0.7644  \n",
       "98  #Bitcoin doesn’t care who said what or who was...     0.7184  \n",
       "99  #Binance #1 Biggest #Crypto Exchange in World ...     0.0000  \n",
       "\n",
       "[100 rows x 4 columns]>"
      ]
     },
     "execution_count": 73,
     "metadata": {},
     "output_type": "execute_result"
    }
   ],
   "source": [
    "pdata.head"
   ]
  },
  {
   "cell_type": "code",
   "execution_count": 74,
   "id": "32b03bc8",
   "metadata": {},
   "outputs": [
    {
     "data": {
      "text/html": [
       "<div>\n",
       "<style scoped>\n",
       "    .dataframe tbody tr th:only-of-type {\n",
       "        vertical-align: middle;\n",
       "    }\n",
       "\n",
       "    .dataframe tbody tr th {\n",
       "        vertical-align: top;\n",
       "    }\n",
       "\n",
       "    .dataframe thead th {\n",
       "        text-align: right;\n",
       "    }\n",
       "</style>\n",
       "<table border=\"1\" class=\"dataframe\">\n",
       "  <thead>\n",
       "    <tr style=\"text-align: right;\">\n",
       "      <th></th>\n",
       "      <th>timestamp</th>\n",
       "      <th>sentiment</th>\n",
       "    </tr>\n",
       "  </thead>\n",
       "  <tbody>\n",
       "    <tr>\n",
       "      <th>0</th>\n",
       "      <td>2019-05-27 11:49:06+00</td>\n",
       "      <td>0.0000</td>\n",
       "    </tr>\n",
       "    <tr>\n",
       "      <th>1</th>\n",
       "      <td>2019-05-27 11:49:19+00</td>\n",
       "      <td>0.4404</td>\n",
       "    </tr>\n",
       "    <tr>\n",
       "      <th>2</th>\n",
       "      <td>2019-05-21 16:49:45+00</td>\n",
       "      <td>0.9260</td>\n",
       "    </tr>\n",
       "    <tr>\n",
       "      <th>3</th>\n",
       "      <td>2019-05-22 12:42:16+00</td>\n",
       "      <td>0.0000</td>\n",
       "    </tr>\n",
       "    <tr>\n",
       "      <th>4</th>\n",
       "      <td>2019-05-27 11:49:30+00</td>\n",
       "      <td>0.0000</td>\n",
       "    </tr>\n",
       "    <tr>\n",
       "      <th>...</th>\n",
       "      <td>...</td>\n",
       "      <td>...</td>\n",
       "    </tr>\n",
       "    <tr>\n",
       "      <th>95</th>\n",
       "      <td>2019-05-27 11:53:35+00</td>\n",
       "      <td>0.0000</td>\n",
       "    </tr>\n",
       "    <tr>\n",
       "      <th>96</th>\n",
       "      <td>2019-05-26 13:30:50+00</td>\n",
       "      <td>0.8805</td>\n",
       "    </tr>\n",
       "    <tr>\n",
       "      <th>97</th>\n",
       "      <td>2019-05-27 04:08:46+00</td>\n",
       "      <td>0.7644</td>\n",
       "    </tr>\n",
       "    <tr>\n",
       "      <th>98</th>\n",
       "      <td>2019-05-27 00:32:43+00</td>\n",
       "      <td>0.7184</td>\n",
       "    </tr>\n",
       "    <tr>\n",
       "      <th>99</th>\n",
       "      <td>2019-05-27 11:53:24+00</td>\n",
       "      <td>0.0000</td>\n",
       "    </tr>\n",
       "  </tbody>\n",
       "</table>\n",
       "<p>100 rows × 2 columns</p>\n",
       "</div>"
      ],
      "text/plain": [
       "                 timestamp  sentiment\n",
       "0   2019-05-27 11:49:06+00     0.0000\n",
       "1   2019-05-27 11:49:19+00     0.4404\n",
       "2   2019-05-21 16:49:45+00     0.9260\n",
       "3   2019-05-22 12:42:16+00     0.0000\n",
       "4   2019-05-27 11:49:30+00     0.0000\n",
       "..                     ...        ...\n",
       "95  2019-05-27 11:53:35+00     0.0000\n",
       "96  2019-05-26 13:30:50+00     0.8805\n",
       "97  2019-05-27 04:08:46+00     0.7644\n",
       "98  2019-05-27 00:32:43+00     0.7184\n",
       "99  2019-05-27 11:53:24+00     0.0000\n",
       "\n",
       "[100 rows x 2 columns]"
      ]
     },
     "execution_count": 74,
     "metadata": {},
     "output_type": "execute_result"
    }
   ],
   "source": [
    "tdata = pd.concat([pdata[\"timestamp\"], pdata[\"sentiment\"]], axis = 1)\n",
    "tdata"
   ]
  },
  {
   "cell_type": "code",
   "execution_count": 84,
   "id": "0587d590",
   "metadata": {},
   "outputs": [
    {
     "data": {
      "text/html": [
       "<div>\n",
       "<style scoped>\n",
       "    .dataframe tbody tr th:only-of-type {\n",
       "        vertical-align: middle;\n",
       "    }\n",
       "\n",
       "    .dataframe tbody tr th {\n",
       "        vertical-align: top;\n",
       "    }\n",
       "\n",
       "    .dataframe thead th {\n",
       "        text-align: right;\n",
       "    }\n",
       "</style>\n",
       "<table border=\"1\" class=\"dataframe\">\n",
       "  <thead>\n",
       "    <tr style=\"text-align: right;\">\n",
       "      <th></th>\n",
       "      <th>timestamp</th>\n",
       "      <th>sentiment</th>\n",
       "    </tr>\n",
       "  </thead>\n",
       "  <tbody>\n",
       "    <tr>\n",
       "      <th>0</th>\n",
       "      <td>2019-03-11 00:00:00+00:00</td>\n",
       "      <td>0.938500</td>\n",
       "    </tr>\n",
       "    <tr>\n",
       "      <th>1</th>\n",
       "      <td>2019-03-18 00:00:00+00:00</td>\n",
       "      <td>NaN</td>\n",
       "    </tr>\n",
       "    <tr>\n",
       "      <th>2</th>\n",
       "      <td>2019-03-25 00:00:00+00:00</td>\n",
       "      <td>NaN</td>\n",
       "    </tr>\n",
       "    <tr>\n",
       "      <th>3</th>\n",
       "      <td>2019-04-01 00:00:00+00:00</td>\n",
       "      <td>NaN</td>\n",
       "    </tr>\n",
       "    <tr>\n",
       "      <th>4</th>\n",
       "      <td>2019-04-08 00:00:00+00:00</td>\n",
       "      <td>NaN</td>\n",
       "    </tr>\n",
       "    <tr>\n",
       "      <th>5</th>\n",
       "      <td>2019-04-15 00:00:00+00:00</td>\n",
       "      <td>NaN</td>\n",
       "    </tr>\n",
       "    <tr>\n",
       "      <th>6</th>\n",
       "      <td>2019-04-22 00:00:00+00:00</td>\n",
       "      <td>0.870000</td>\n",
       "    </tr>\n",
       "    <tr>\n",
       "      <th>7</th>\n",
       "      <td>2019-04-29 00:00:00+00:00</td>\n",
       "      <td>0.271233</td>\n",
       "    </tr>\n",
       "    <tr>\n",
       "      <th>8</th>\n",
       "      <td>2019-05-06 00:00:00+00:00</td>\n",
       "      <td>0.557300</td>\n",
       "    </tr>\n",
       "    <tr>\n",
       "      <th>9</th>\n",
       "      <td>2019-05-13 00:00:00+00:00</td>\n",
       "      <td>0.410502</td>\n",
       "    </tr>\n",
       "  </tbody>\n",
       "</table>\n",
       "</div>"
      ],
      "text/plain": [
       "                  timestamp  sentiment\n",
       "0 2019-03-11 00:00:00+00:00   0.938500\n",
       "1 2019-03-18 00:00:00+00:00        NaN\n",
       "2 2019-03-25 00:00:00+00:00        NaN\n",
       "3 2019-04-01 00:00:00+00:00        NaN\n",
       "4 2019-04-08 00:00:00+00:00        NaN\n",
       "5 2019-04-15 00:00:00+00:00        NaN\n",
       "6 2019-04-22 00:00:00+00:00   0.870000\n",
       "7 2019-04-29 00:00:00+00:00   0.271233\n",
       "8 2019-05-06 00:00:00+00:00   0.557300\n",
       "9 2019-05-13 00:00:00+00:00   0.410502"
      ]
     },
     "execution_count": 84,
     "metadata": {},
     "output_type": "execute_result"
    }
   ],
   "source": [
    "tdata[\"timestamp\"] = pd.to_datetime(tdata[\"timestamp\"])\n",
    "tdata['timestamp'] = pd.to_datetime(tdata['timestamp']) - pd.to_timedelta(7, unit='d')\n",
    "df = tdata.resample('W-Mon', on='timestamp').mean().reset_index().sort_values(by='timestamp')\n",
    "df"
   ]
  },
  {
   "cell_type": "code",
   "execution_count": 85,
   "id": "b18e7e94",
   "metadata": {},
   "outputs": [
    {
     "data": {
      "image/png": "[encoded data removed]",
      "text/plain": [
       "<Figure size 432x288 with 1 Axes>"
      ]
     },
     "metadata": {
      "needs_background": "light"
     },
     "output_type": "display_data"
    }
   ],
   "source": [
    "plt.plot(df[\"timestamp\"], df[\"sentiment\"])\n",
    "plt.show()"
   ]
  },
  {
   "cell_type": "code",
   "execution_count": 83,
   "id": "3a034654",
   "metadata": {},
   "outputs": [
    {
     "data": {
      "text/html": [
       "<div>\n",
       "<style scoped>\n",
       "    .dataframe tbody tr th:only-of-type {\n",
       "        vertical-align: middle;\n",
       "    }\n",
       "\n",
       "    .dataframe tbody tr th {\n",
       "        vertical-align: top;\n",
       "    }\n",
       "\n",
       "    .dataframe thead th {\n",
       "        text-align: right;\n",
       "    }\n",
       "</style>\n",
       "<table border=\"1\" class=\"dataframe\">\n",
       "  <thead>\n",
       "    <tr style=\"text-align: right;\">\n",
       "      <th></th>\n",
       "      <th>timestamp</th>\n",
       "      <th>sentiment</th>\n",
       "    </tr>\n",
       "  </thead>\n",
       "  <tbody>\n",
       "    <tr>\n",
       "      <th>0</th>\n",
       "      <td>2019-03-18 00:00:00+00:00</td>\n",
       "      <td>0.938500</td>\n",
       "    </tr>\n",
       "    <tr>\n",
       "      <th>1</th>\n",
       "      <td>2019-03-25 00:00:00+00:00</td>\n",
       "      <td>NaN</td>\n",
       "    </tr>\n",
       "    <tr>\n",
       "      <th>2</th>\n",
       "      <td>2019-04-01 00:00:00+00:00</td>\n",
       "      <td>NaN</td>\n",
       "    </tr>\n",
       "    <tr>\n",
       "      <th>3</th>\n",
       "      <td>2019-04-08 00:00:00+00:00</td>\n",
       "      <td>NaN</td>\n",
       "    </tr>\n",
       "    <tr>\n",
       "      <th>4</th>\n",
       "      <td>2019-04-15 00:00:00+00:00</td>\n",
       "      <td>NaN</td>\n",
       "    </tr>\n",
       "    <tr>\n",
       "      <th>5</th>\n",
       "      <td>2019-04-22 00:00:00+00:00</td>\n",
       "      <td>NaN</td>\n",
       "    </tr>\n",
       "    <tr>\n",
       "      <th>6</th>\n",
       "      <td>2019-04-29 00:00:00+00:00</td>\n",
       "      <td>0.870000</td>\n",
       "    </tr>\n",
       "    <tr>\n",
       "      <th>7</th>\n",
       "      <td>2019-05-06 00:00:00+00:00</td>\n",
       "      <td>0.271233</td>\n",
       "    </tr>\n",
       "    <tr>\n",
       "      <th>8</th>\n",
       "      <td>2019-05-13 00:00:00+00:00</td>\n",
       "      <td>0.557300</td>\n",
       "    </tr>\n",
       "    <tr>\n",
       "      <th>9</th>\n",
       "      <td>2019-05-20 00:00:00+00:00</td>\n",
       "      <td>0.410502</td>\n",
       "    </tr>\n",
       "  </tbody>\n",
       "</table>\n",
       "</div>"
      ],
      "text/plain": [
       "                  timestamp  sentiment\n",
       "0 2019-03-18 00:00:00+00:00   0.938500\n",
       "1 2019-03-25 00:00:00+00:00        NaN\n",
       "2 2019-04-01 00:00:00+00:00        NaN\n",
       "3 2019-04-08 00:00:00+00:00        NaN\n",
       "4 2019-04-15 00:00:00+00:00        NaN\n",
       "5 2019-04-22 00:00:00+00:00        NaN\n",
       "6 2019-04-29 00:00:00+00:00   0.870000\n",
       "7 2019-05-06 00:00:00+00:00   0.271233\n",
       "8 2019-05-13 00:00:00+00:00   0.557300\n",
       "9 2019-05-20 00:00:00+00:00   0.410502"
      ]
     },
     "execution_count": 83,
     "metadata": {},
     "output_type": "execute_result"
    }
   ],
   "source": [
    "#not including zeros in mean \n",
    "tdata[tdata[\"sentiment\"] == 0] = np.nan\n",
    "df = tdata.resample('W-Mon', on='timestamp').mean().reset_index().sort_values(by='timestamp')\n",
    "df"
   ]
  },
  {
   "cell_type": "code",
   "execution_count": 4,
   "id": "1ad56cd2",
   "metadata": {},
   "outputs": [],
   "source": [
    "from vaderSentiment.vaderSentiment import SentimentIntensityAnalyzer\n",
    "side_obj = SentimentIntensityAnalyzer()\n",
    "def sentiment_scores(x):\n",
    "    y = side_obj.polarity_scores(x)\n",
    "    return y[\"compound\"]"
   ]
  },
  {
   "cell_type": "code",
   "execution_count": 24,
   "id": "20951f89",
   "metadata": {},
   "outputs": [],
   "source": [
    "data = data.drop([\"Unnamed: 0\"], axis = 1)\n",
    "data['timestamp'] = pd.to_datetime(data['timestamp'])\n",
    "#sentiment score\n",
    "dsensco = np.zeros(1438604)\n",
    "for i in range(1438604):\n",
    "    dsensco[i] = sentiment_scores(data[\"text\"][i])\n",
    "data[\"sentiment\"] = dsensco\n",
    "data = data.drop([\"text\"], axis = 1)\n",
    "data1 = data\n",
    "# mean with zeros\n",
    "data['timestamp'] = pd.to_datetime(data['timestamp']) - pd.to_timedelta(7, unit='d')\n",
    "df = data.resample('W-Mon', on='timestamp').mean().reset_index().sort_values(by='timestamp')\n",
    "# data1[data1[\"sentiment\" == 0]] = np.nan\n",
    "# data1['timestamp'] = pd.to_datetime(data1['timestamp']) - pd.to_timedelta(7, unit='d')\n",
    "# df = data1.resample('W-Mon', on='timestamp').mean().reset_index().sort_values(by='timestamp')"
   ]
  },
  {
   "cell_type": "code",
   "execution_count": 30,
   "id": "8b5c092f",
   "metadata": {},
   "outputs": [
    {
     "data": {
      "text/plain": [
       "<function matplotlib.pyplot.show(close=None, block=None)>"
      ]
     },
     "execution_count": 30,
     "metadata": {},
     "output_type": "execute_result"
    },
    {
     "data": {
      "image/png": "[encoded data removed]",
      "text/plain": [
       "<Figure size 432x288 with 1 Axes>"
      ]
     },
     "metadata": {
      "needs_background": "light"
     },
     "output_type": "display_data"
    }
   ],
   "source": [
    "plt.plot(df[\"timestamp\"],df[\"sentiment\"])\n",
    "plt.show"
   ]
  },
  {
   "cell_type": "code",
   "execution_count": 40,
   "id": "13efbe68",
   "metadata": {},
   "outputs": [
    {
     "data": {
      "text/html": [
       "<div>\n",
       "<style scoped>\n",
       "    .dataframe tbody tr th:only-of-type {\n",
       "        vertical-align: middle;\n",
       "    }\n",
       "\n",
       "    .dataframe tbody tr th {\n",
       "        vertical-align: top;\n",
       "    }\n",
       "\n",
       "    .dataframe thead th {\n",
       "        text-align: right;\n",
       "    }\n",
       "</style>\n",
       "<table border=\"1\" class=\"dataframe\">\n",
       "  <thead>\n",
       "    <tr style=\"text-align: right;\">\n",
       "      <th></th>\n",
       "      <th>timestamp</th>\n",
       "      <th>sentiment</th>\n",
       "    </tr>\n",
       "  </thead>\n",
       "  <tbody>\n",
       "    <tr>\n",
       "      <th>0</th>\n",
       "      <td>2009-01-05 00:00:00+00:00</td>\n",
       "      <td>0.000000</td>\n",
       "    </tr>\n",
       "    <tr>\n",
       "      <th>1</th>\n",
       "      <td>2009-01-12 00:00:00+00:00</td>\n",
       "      <td>NaN</td>\n",
       "    </tr>\n",
       "    <tr>\n",
       "      <th>2</th>\n",
       "      <td>2009-01-19 00:00:00+00:00</td>\n",
       "      <td>0.000000</td>\n",
       "    </tr>\n",
       "    <tr>\n",
       "      <th>3</th>\n",
       "      <td>2009-01-26 00:00:00+00:00</td>\n",
       "      <td>0.000000</td>\n",
       "    </tr>\n",
       "    <tr>\n",
       "      <th>4</th>\n",
       "      <td>2009-02-02 00:00:00+00:00</td>\n",
       "      <td>NaN</td>\n",
       "    </tr>\n",
       "    <tr>\n",
       "      <th>...</th>\n",
       "      <td>...</td>\n",
       "      <td>...</td>\n",
       "    </tr>\n",
       "    <tr>\n",
       "      <th>563</th>\n",
       "      <td>2019-10-21 00:00:00+00:00</td>\n",
       "      <td>0.203051</td>\n",
       "    </tr>\n",
       "    <tr>\n",
       "      <th>564</th>\n",
       "      <td>2019-10-28 00:00:00+00:00</td>\n",
       "      <td>0.231334</td>\n",
       "    </tr>\n",
       "    <tr>\n",
       "      <th>565</th>\n",
       "      <td>2019-11-04 00:00:00+00:00</td>\n",
       "      <td>0.223319</td>\n",
       "    </tr>\n",
       "    <tr>\n",
       "      <th>566</th>\n",
       "      <td>2019-11-11 00:00:00+00:00</td>\n",
       "      <td>0.223097</td>\n",
       "    </tr>\n",
       "    <tr>\n",
       "      <th>567</th>\n",
       "      <td>2019-11-18 00:00:00+00:00</td>\n",
       "      <td>0.208400</td>\n",
       "    </tr>\n",
       "  </tbody>\n",
       "</table>\n",
       "<p>568 rows × 2 columns</p>\n",
       "</div>"
      ],
      "text/plain": [
       "                    timestamp  sentiment\n",
       "0   2009-01-05 00:00:00+00:00   0.000000\n",
       "1   2009-01-12 00:00:00+00:00        NaN\n",
       "2   2009-01-19 00:00:00+00:00   0.000000\n",
       "3   2009-01-26 00:00:00+00:00   0.000000\n",
       "4   2009-02-02 00:00:00+00:00        NaN\n",
       "..                        ...        ...\n",
       "563 2019-10-21 00:00:00+00:00   0.203051\n",
       "564 2019-10-28 00:00:00+00:00   0.231334\n",
       "565 2019-11-04 00:00:00+00:00   0.223319\n",
       "566 2019-11-11 00:00:00+00:00   0.223097\n",
       "567 2019-11-18 00:00:00+00:00   0.208400\n",
       "\n",
       "[568 rows x 2 columns]"
      ]
     },
     "execution_count": 40,
     "metadata": {},
     "output_type": "execute_result"
    }
   ],
   "source": [
    "df"
   ]
  },
  {
   "cell_type": "code",
   "execution_count": null,
   "id": "d4752d59",
   "metadata": {},
   "outputs": [],
   "source": []
  },
  {
   "cell_type": "code",
   "execution_count": 21,
   "id": "e67a21ef",
   "metadata": {},
   "outputs": [
    {
     "data": {
      "text/html": [
       "<div>\n",
       "<style scoped>\n",
       "    .dataframe tbody tr th:only-of-type {\n",
       "        vertical-align: middle;\n",
       "    }\n",
       "\n",
       "    .dataframe tbody tr th {\n",
       "        vertical-align: top;\n",
       "    }\n",
       "\n",
       "    .dataframe thead th {\n",
       "        text-align: right;\n",
       "    }\n",
       "</style>\n",
       "<table border=\"1\" class=\"dataframe\">\n",
       "  <thead>\n",
       "    <tr style=\"text-align: right;\">\n",
       "      <th></th>\n",
       "      <th>timestamp</th>\n",
       "      <th>text</th>\n",
       "    </tr>\n",
       "  </thead>\n",
       "  <tbody>\n",
       "    <tr>\n",
       "      <th>0</th>\n",
       "      <td>2019-05-27 11:49:06+00:00</td>\n",
       "      <td>Another Test tweet that wasn't caught in the s...</td>\n",
       "    </tr>\n",
       "    <tr>\n",
       "      <th>1</th>\n",
       "      <td>2019-05-27 11:49:19+00:00</td>\n",
       "      <td>One of the useful articles of Stefan; here is ...</td>\n",
       "    </tr>\n",
       "    <tr>\n",
       "      <th>2</th>\n",
       "      <td>2019-05-21 16:49:45+00:00</td>\n",
       "      <td>BTC IS STILL GOING STRONG!!\\n\\nThus, we are gi...</td>\n",
       "    </tr>\n",
       "    <tr>\n",
       "      <th>3</th>\n",
       "      <td>2019-05-22 12:42:16+00:00</td>\n",
       "      <td>BestMixer has been seized by the Dutch Police ...</td>\n",
       "    </tr>\n",
       "    <tr>\n",
       "      <th>4</th>\n",
       "      <td>2019-05-27 11:49:30+00:00</td>\n",
       "      <td>Invested my Life Savings into Bitcoin and Ethe...</td>\n",
       "    </tr>\n",
       "    <tr>\n",
       "      <th>...</th>\n",
       "      <td>...</td>\n",
       "      <td>...</td>\n",
       "    </tr>\n",
       "    <tr>\n",
       "      <th>1438599</th>\n",
       "      <td>2019-11-23 14:35:38+00:00</td>\n",
       "      <td>We are super happy to announce that TZC is add...</td>\n",
       "    </tr>\n",
       "    <tr>\n",
       "      <th>1438600</th>\n",
       "      <td>2019-11-18 10:11:08+00:00</td>\n",
       "      <td>Registration is now open for the biggest globa...</td>\n",
       "    </tr>\n",
       "    <tr>\n",
       "      <th>1438601</th>\n",
       "      <td>2019-11-23 15:24:08+00:00</td>\n",
       "      <td>$200 #PayPal or #Bitcoin #giveaway \\n1) RT thi...</td>\n",
       "    </tr>\n",
       "    <tr>\n",
       "      <th>1438602</th>\n",
       "      <td>2019-11-23 15:28:50+00:00</td>\n",
       "      <td>Happy #FibonacciDay \\n\\nA while back I created...</td>\n",
       "    </tr>\n",
       "    <tr>\n",
       "      <th>1438603</th>\n",
       "      <td>2019-11-23 15:45:06+00:00</td>\n",
       "      <td>$BTC - an update on the longer term view for B...</td>\n",
       "    </tr>\n",
       "  </tbody>\n",
       "</table>\n",
       "<p>1438604 rows × 2 columns</p>\n",
       "</div>"
      ],
      "text/plain": [
       "                        timestamp  \\\n",
       "0       2019-05-27 11:49:06+00:00   \n",
       "1       2019-05-27 11:49:19+00:00   \n",
       "2       2019-05-21 16:49:45+00:00   \n",
       "3       2019-05-22 12:42:16+00:00   \n",
       "4       2019-05-27 11:49:30+00:00   \n",
       "...                           ...   \n",
       "1438599 2019-11-23 14:35:38+00:00   \n",
       "1438600 2019-11-18 10:11:08+00:00   \n",
       "1438601 2019-11-23 15:24:08+00:00   \n",
       "1438602 2019-11-23 15:28:50+00:00   \n",
       "1438603 2019-11-23 15:45:06+00:00   \n",
       "\n",
       "                                                      text  \n",
       "0        Another Test tweet that wasn't caught in the s...  \n",
       "1        One of the useful articles of Stefan; here is ...  \n",
       "2        BTC IS STILL GOING STRONG!!\\n\\nThus, we are gi...  \n",
       "3        BestMixer has been seized by the Dutch Police ...  \n",
       "4        Invested my Life Savings into Bitcoin and Ethe...  \n",
       "...                                                    ...  \n",
       "1438599  We are super happy to announce that TZC is add...  \n",
       "1438600  Registration is now open for the biggest globa...  \n",
       "1438601  $200 #PayPal or #Bitcoin #giveaway \\n1) RT thi...  \n",
       "1438602  Happy #FibonacciDay \\n\\nA while back I created...  \n",
       "1438603  $BTC - an update on the longer term view for B...  \n",
       "\n",
       "[1438604 rows x 2 columns]"
      ]
     },
     "execution_count": 21,
     "metadata": {},
     "output_type": "execute_result"
    }
   ],
   "source": [
    "data"
   ]
  },
  {
   "cell_type": "code",
   "execution_count": 37,
   "id": "e12f2d04",
   "metadata": {},
   "outputs": [],
   "source": [
    "# Without zeros mean \n",
    "data1[data1[\"sentiment\"] == 0] = np.nan\n",
    "data1['timestamp'] = pd.to_datetime(data1['timestamp']) - pd.to_timedelta(7, unit='d')\n",
    "df2 = data1.resample('W-Mon', on='timestamp').mean().reset_index().sort_values(by='timestamp')"
   ]
  },
  {
   "cell_type": "code",
   "execution_count": 46,
   "id": "fd69fcdd",
   "metadata": {},
   "outputs": [
    {
     "data": {
      "text/plain": [
       "<function matplotlib.pyplot.show(close=None, block=None)>"
      ]
     },
     "execution_count": 46,
     "metadata": {},
     "output_type": "execute_result"
    },
    {
     "data": {
      "image/png": "[encoded data removed]",
      "text/plain": [
       "<Figure size 432x288 with 1 Axes>"
      ]
     },
     "metadata": {
      "needs_background": "light"
     },
     "output_type": "display_data"
    }
   ],
   "source": [
    "plt.plot(df2[\"timestamp\"],df2[\"sentiment\"])\n",
    "plt.plot(df[\"timestamp\"],df[\"sentiment\"])\n",
    "plt.show"
   ]
  },
  {
   "cell_type": "code",
   "execution_count": 43,
   "id": "f2307644",
   "metadata": {},
   "outputs": [],
   "source": [
    "df2.to_csv('nozeros.csv', index=False)"
   ]
  },
  {
   "cell_type": "markdown",
   "id": "08d65af4",
   "metadata": {},
   "source": [
    "# Sentiment for like data"
   ]
  },
  {
   "cell_type": "markdown",
   "id": "5af7d9a5",
   "metadata": {},
   "source": [
    "The formula to calculate the weighted sentiment by likes is $\\frac{1}{n}\\sum_{i=1}^{n}w_ix_i$ where $x_i$ is sentiment and $w_i$ is likes on i:th tweet."
   ]
  },
  {
   "cell_type": "code",
   "execution_count": 1,
   "id": "afa090ba",
   "metadata": {},
   "outputs": [],
   "source": [
    "# Imports and data\n",
    "import numpy as np\n",
    "import numpy.random as npr\n",
    "import pandas as pd\n",
    "import matplotlib.pyplot as plt\n",
    "\n",
    "df = pd.read_csv('processed_likes.csv')"
   ]
  },
  {
   "cell_type": "code",
   "execution_count": 12,
   "id": "c62d4fb4",
   "metadata": {},
   "outputs": [],
   "source": [
    "from vaderSentiment.vaderSentiment import SentimentIntensityAnalyzer\n",
    "side_obj = SentimentIntensityAnalyzer()\n",
    "def sentiment_scores(x):\n",
    "    y = side_obj.polarity_scores(x)\n",
    "    return y[\"compound\"]"
   ]
  },
  {
   "cell_type": "code",
   "execution_count": 18,
   "id": "99d10b50",
   "metadata": {},
   "outputs": [
    {
     "name": "stderr",
     "output_type": "stream",
     "text": [
      "c:\\users\\lamth\\appdata\\local\\programs\\python\\python37-32\\lib\\site-packages\\ipykernel_launcher.py:7: SettingWithCopyWarning: \n",
      "A value is trying to be set on a copy of a slice from a DataFrame.\n",
      "Try using .loc[row_indexer,col_indexer] = value instead\n",
      "\n",
      "See the caveats in the documentation: https://pandas.pydata.org/pandas-docs/stable/user_guide/indexing.html#returning-a-view-versus-a-copy\n",
      "  import sys\n"
     ]
    }
   ],
   "source": [
    "# again testing with test data = tdf\n",
    "tdf = df[0:99]\n",
    "#weighted sentiment score\n",
    "twsenti = np.zeros(len(tdf))\n",
    "for i in range(len(tdf)):\n",
    "    twsenti[i] = sentiment_scores(tdf[\"text\"][i])*tdf[\"likes\"][i]\n",
    "tdf[\"wsentiment\"] = twsenti\n",
    "tdf = tdf.drop([\"text\"], axis = 1)\n",
    "tdf = tdf.drop([\"likes\"], axis = 1)"
   ]
  },
  {
   "cell_type": "code",
   "execution_count": 35,
   "id": "1d58c806",
   "metadata": {},
   "outputs": [
    {
     "data": {
      "text/html": [
       "<div>\n",
       "<style scoped>\n",
       "    .dataframe tbody tr th:only-of-type {\n",
       "        vertical-align: middle;\n",
       "    }\n",
       "\n",
       "    .dataframe tbody tr th {\n",
       "        vertical-align: top;\n",
       "    }\n",
       "\n",
       "    .dataframe thead th {\n",
       "        text-align: right;\n",
       "    }\n",
       "</style>\n",
       "<table border=\"1\" class=\"dataframe\">\n",
       "  <thead>\n",
       "    <tr style=\"text-align: right;\">\n",
       "      <th></th>\n",
       "      <th>timestamp</th>\n",
       "      <th>wsentiment</th>\n",
       "    </tr>\n",
       "  </thead>\n",
       "  <tbody>\n",
       "    <tr>\n",
       "      <th>0</th>\n",
       "      <td>2008-12-22 00:00:00+00:00</td>\n",
       "      <td>0.000000</td>\n",
       "    </tr>\n",
       "    <tr>\n",
       "      <th>1</th>\n",
       "      <td>2008-12-29 00:00:00+00:00</td>\n",
       "      <td>NaN</td>\n",
       "    </tr>\n",
       "    <tr>\n",
       "      <th>2</th>\n",
       "      <td>2009-01-05 00:00:00+00:00</td>\n",
       "      <td>NaN</td>\n",
       "    </tr>\n",
       "    <tr>\n",
       "      <th>3</th>\n",
       "      <td>2009-01-12 00:00:00+00:00</td>\n",
       "      <td>NaN</td>\n",
       "    </tr>\n",
       "    <tr>\n",
       "      <th>4</th>\n",
       "      <td>2009-01-19 00:00:00+00:00</td>\n",
       "      <td>NaN</td>\n",
       "    </tr>\n",
       "    <tr>\n",
       "      <th>...</th>\n",
       "      <td>...</td>\n",
       "      <td>...</td>\n",
       "    </tr>\n",
       "    <tr>\n",
       "      <th>537</th>\n",
       "      <td>2019-04-08 00:00:00+00:00</td>\n",
       "      <td>NaN</td>\n",
       "    </tr>\n",
       "    <tr>\n",
       "      <th>538</th>\n",
       "      <td>2019-04-15 00:00:00+00:00</td>\n",
       "      <td>813.450000</td>\n",
       "    </tr>\n",
       "    <tr>\n",
       "      <th>539</th>\n",
       "      <td>2019-04-22 00:00:00+00:00</td>\n",
       "      <td>-112.201675</td>\n",
       "    </tr>\n",
       "    <tr>\n",
       "      <th>540</th>\n",
       "      <td>2019-04-29 00:00:00+00:00</td>\n",
       "      <td>882.926700</td>\n",
       "    </tr>\n",
       "    <tr>\n",
       "      <th>541</th>\n",
       "      <td>2019-05-06 00:00:00+00:00</td>\n",
       "      <td>47.154859</td>\n",
       "    </tr>\n",
       "  </tbody>\n",
       "</table>\n",
       "<p>542 rows × 2 columns</p>\n",
       "</div>"
      ],
      "text/plain": [
       "                    timestamp  wsentiment\n",
       "0   2008-12-22 00:00:00+00:00    0.000000\n",
       "1   2008-12-29 00:00:00+00:00         NaN\n",
       "2   2009-01-05 00:00:00+00:00         NaN\n",
       "3   2009-01-12 00:00:00+00:00         NaN\n",
       "4   2009-01-19 00:00:00+00:00         NaN\n",
       "..                        ...         ...\n",
       "537 2019-04-08 00:00:00+00:00         NaN\n",
       "538 2019-04-15 00:00:00+00:00  813.450000\n",
       "539 2019-04-22 00:00:00+00:00 -112.201675\n",
       "540 2019-04-29 00:00:00+00:00  882.926700\n",
       "541 2019-05-06 00:00:00+00:00   47.154859\n",
       "\n",
       "[542 rows x 2 columns]"
      ]
     },
     "execution_count": 35,
     "metadata": {},
     "output_type": "execute_result"
    }
   ],
   "source": [
    "tdf[\"timestamp\"] = pd.to_datetime(tdf['timestamp']) - pd.to_timedelta(7, unit='d')\n",
    "tdf = tdf.resample('W-Mon', on='timestamp').mean().reset_index().sort_values(by='timestamp')\n",
    "tdf"
   ]
  },
  {
   "cell_type": "code",
   "execution_count": 34,
   "id": "bcc07d7b",
   "metadata": {},
   "outputs": [
    {
     "data": {
      "text/plain": [
       "(18001.0, 18039.0)"
      ]
     },
     "execution_count": 34,
     "metadata": {},
     "output_type": "execute_result"
    },
    {
     "data": {
      "image/png": "[encoded data removed]",
      "text/plain": [
       "<Figure size 432x288 with 1 Axes>"
      ]
     },
     "metadata": {
      "needs_background": "light"
     },
     "output_type": "display_data"
    }
   ],
   "source": [
    "plt.plot(tdf[\"timestamp\"],tdf[\"wsentiment\"])\n",
    "plt.xlim(pd.Timestamp('2019-04-15'), pd.Timestamp('2019-05-23'))"
   ]
  },
  {
   "cell_type": "markdown",
   "id": "dbb3ad37",
   "metadata": {},
   "source": [
    "# Now with the whole data"
   ]
  },
  {
   "cell_type": "code",
   "execution_count": 36,
   "id": "ecabd429",
   "metadata": {},
   "outputs": [],
   "source": [
    "#weighted sentiment score\n",
    "twsenti = np.zeros(len(df))\n",
    "for i in range(len(df)):\n",
    "    twsenti[i] = sentiment_scores(df[\"text\"][i])*df[\"likes\"][i]\n",
    "df[\"wsentiment\"] = twsenti\n",
    "df = df.drop([\"text\"], axis = 1)\n",
    "df = df.drop([\"likes\"], axis = 1)"
   ]
  },
  {
   "cell_type": "code",
   "execution_count": 39,
   "id": "273939bc",
   "metadata": {},
   "outputs": [],
   "source": [
    "copy = df\n",
    "df[\"timestamp\"] = pd.to_datetime(df['timestamp']) - pd.to_timedelta(7, unit='d')\n",
    "df = df.resample('W-Mon', on='timestamp').mean().reset_index().sort_values(by='timestamp')"
   ]
  },
  {
   "cell_type": "code",
   "execution_count": 46,
   "id": "44d8e88c",
   "metadata": {},
   "outputs": [],
   "source": [
    "# ignoring zero wsentiment in the mean \n",
    "copy[copy[\"wsentiment\"] == 0] = np.nan\n",
    "copy['timestamp'] = pd.to_datetime(copy['timestamp']) - pd.to_timedelta(7, unit='d')\n",
    "copy = copy.resample('W-Mon', on='timestamp').mean().reset_index().sort_values(by='timestamp')"
   ]
  },
  {
   "cell_type": "code",
   "execution_count": 71,
   "id": "c12e6249",
   "metadata": {},
   "outputs": [
    {
     "data": {
      "text/plain": [
       "Text(0.5, 1.0, 'blue is the normal one and the yellow is the wsentiment without zero wsentiment calculated in the mean')"
      ]
     },
     "execution_count": 71,
     "metadata": {},
     "output_type": "execute_result"
    },
    {
     "data": {
      "image/png": "[encoded data removed]",
      "text/plain": [
       "<Figure size 432x288 with 1 Axes>"
      ]
     },
     "metadata": {
      "needs_background": "light"
     },
     "output_type": "display_data"
    }
   ],
   "source": [
    "plt.plot(df[\"timestamp\"],df[\"wsentiment\"])\n",
    "plt.plot(copy[\"timestamp\"],copy[\"wsentiment\"])\n",
    "plt.ylim(-50,200)\n",
    "plt.xlim(pd.Timestamp('2016-01-04'), pd.Timestamp('2020-01-01'))\n",
    "plt.title(\"blue is the normal one and the yellow is the wsentiment without zero wsentiment calculated in the mean\")"
   ]
  },
  {
   "cell_type": "code",
   "execution_count": 64,
   "id": "163367f1",
   "metadata": {},
   "outputs": [],
   "source": [
    "df.to_csv('wsentiment.csv',index = False)\n",
    "copy.to_csv('nozerowsentiment.csv', index = False)"
   ]
  },
  {
   "cell_type": "code",
   "execution_count": 2,
   "id": "1646b44e",
   "metadata": {},
   "outputs": [],
   "source": [
    "df1 = pd.read_csv(\"sentimentdata.csv\")\n",
    "df2 = pd.read_csv(\"nozeros.csv\")\n",
    "df3 = pd.read_csv(\"wsentiment.csv\")\n",
    "df4 = pd.read_csv(\"nozerowsentiment.csv\")"
   ]
  },
  {
   "cell_type": "code",
   "execution_count": 13,
   "id": "06d79a0f",
   "metadata": {},
   "outputs": [],
   "source": [
    "df1[\"timestamp\"] = pd.to_datetime(df1[\"timestamp\"])\n",
    "df2[\"timestamp\"] = pd.to_datetime(df2[\"timestamp\"])\n",
    "df3[\"timestamp\"] = pd.to_datetime(df3[\"timestamp\"])\n",
    "df4[\"timestamp\"] = pd.to_datetime(df4[\"timestamp\"])"
   ]
  },
  {
   "cell_type": "code",
   "execution_count": 29,
   "id": "e38c3d20",
   "metadata": {},
   "outputs": [
    {
     "data": {
      "image/png": "[encoded data removed]",
      "text/plain": [
       "<Figure size 432x288 with 1 Axes>"
      ]
     },
     "metadata": {
      "needs_background": "light"
     },
     "output_type": "display_data"
    }
   ],
   "source": [
    "plt.plot(df4[\"timestamp\"],df4[\"wsentiment\"])\n",
    "plt.xlim(pd.Timestamp('2016-01-04'), pd.Timestamp('2020-01-01'))\n",
    "plt.title(\"The Weekly Weighted Sentiment Score\")\n",
    "plt.show\n",
    "plt.savefig(\"WeeklyWeightedSentiment\")"
   ]
  }
 ],
 "metadata": {
  "kernelspec": {
   "display_name": "Python 3 (ipykernel)",
   "language": "python",
   "name": "python3"
  },
  "language_info": {
   "codemirror_mode": {
    "name": "ipython",
    "version": 3
   },
   "file_extension": ".py",
   "mimetype": "text/x-python",
   "name": "python",
   "nbconvert_exporter": "python",
   "pygments_lexer": "ipython3",
   "version": "3.7.2"
  }
 },
 "nbformat": 4,
 "nbformat_minor": 5
}
